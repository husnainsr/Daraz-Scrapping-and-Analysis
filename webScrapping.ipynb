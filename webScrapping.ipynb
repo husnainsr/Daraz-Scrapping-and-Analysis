{
 "cells": [
  {
   "cell_type": "markdown",
   "metadata": {},
   "source": [
    "# Name: Husnain Sattar\n",
    "# Roll No.: i211354\n",
    "# Assignment 6"
   ]
  },
  {
   "cell_type": "markdown",
   "metadata": {},
   "source": [
    "# Instruction"
   ]
  },
  {
   "cell_type": "markdown",
   "metadata": {},
   "source": [
    "1. Don’t plagiarize, Plagiarism would lead to straight zero\n",
    "2. Clearly mention your NAME and ROLL NO#.\n",
    "3. Late submissions are not allowed. Start Early."
   ]
  },
  {
   "cell_type": "code",
   "execution_count": 5,
   "metadata": {},
   "outputs": [],
   "source": [
    "#import libraries\n",
    "import time\n",
    "import pandas as pd\n",
    "from selenium import webdriver\n",
    "from selenium.webdriver.edge.options import Options\n",
    "from selenium.webdriver.common.keys import Keys\n",
    "from selenium.webdriver.common.by import By\n",
    "from selenium.common.exceptions import NoSuchElementException\n",
    "import re\n",
    "from cleantext import clean\n",
    "from nltk.sentiment.vader import SentimentIntensityAnalyzer\n",
    "sid = SentimentIntensityAnalyzer()"
   ]
  },
  {
   "cell_type": "code",
   "execution_count": null,
   "metadata": {},
   "outputs": [],
   "source": []
  },
  {
   "cell_type": "markdown",
   "metadata": {},
   "source": [
    "# Question 1  (10 marks)"
   ]
  },
  {
   "cell_type": "markdown",
   "metadata": {},
   "source": [
    "Scrape 3 pages of reviews for a single product listing using product URL.<br /> Note: Product must have more than 1 review page. The code must be generic and should work for every product listing URL, with proper checks in place."
   ]
  },
  {
   "cell_type": "code",
   "execution_count": 3,
   "metadata": {},
   "outputs": [],
   "source": [
    "url = f'https://www.daraz.pk/products/skmei-fashion-quartz-waterproof-creative-stainless-steel-business-watch-for-men-1260-i110332396.html'"
   ]
  },
  {
   "cell_type": "code",
   "execution_count": 4,
   "metadata": {},
   "outputs": [],
   "source": [
    "url2=f'https://www.daraz.pk/products/sd-2gb4gb8gb16gb32gb-2-i195058067-s1389684185.html?spm=a2a0e.home.just4u.9.6a274937yhXxxM&scm=1007.28811.295250.0&pvid=73887e42-6d17-42a9-a7cb-0f1a0994b8c6&clickTrackInfo=pvid%3A73887e42-6d17-42a9-a7cb-0f1a0994b8c6%3Bchannel_id%3A0000%3Bmt%3Ahot%3Bitem_id%3A195058067%3B'"
   ]
  },
  {
   "attachments": {},
   "cell_type": "markdown",
   "metadata": {},
   "source": [
    "driver= webdriver.Chrome(r'C:\\Users\\lenovo\\Downloads\\webscraping\\webscraping\\chromedriver.exe')\n",
    "driver.get(url2)\n",
    "review=[]\n",
    "name=[]\n",
    "count=0\n",
    "driver\n",
    "for p in range(0, 3):\n",
    "    time.sleep(10)\n",
    "    for i in driver.find_elements(By.CLASS_NAME,'item'):\n",
    "        r = i.find_element(By.CLASS_NAME,'item-content')\n",
    "        review.append((r.find_element(By.CLASS_NAME,'content').text))\n",
    "        n =i.find_element(By.CLASS_NAME,'middle').text[3:]\n",
    "        n=n[:-18]\n",
    "        name.append(n)\n",
    "    driver.find_element(By.XPATH,'/html/body/div[4]/div/div[9]/div[1]/div[2]/div/div/div/div[3]/div[2]/div/button[2]').click()"
   ]
  },
  {
   "cell_type": "code",
   "execution_count": 8,
   "metadata": {},
   "outputs": [
    {
     "data": {
      "text/html": [
       "<div>\n",
       "<style scoped>\n",
       "    .dataframe tbody tr th:only-of-type {\n",
       "        vertical-align: middle;\n",
       "    }\n",
       "\n",
       "    .dataframe tbody tr th {\n",
       "        vertical-align: top;\n",
       "    }\n",
       "\n",
       "    .dataframe thead th {\n",
       "        text-align: right;\n",
       "    }\n",
       "</style>\n",
       "<table border=\"1\" class=\"dataframe\">\n",
       "  <thead>\n",
       "    <tr style=\"text-align: right;\">\n",
       "      <th></th>\n",
       "      <th>Name</th>\n",
       "      <th>Review</th>\n",
       "    </tr>\n",
       "  </thead>\n",
       "  <tbody>\n",
       "    <tr>\n",
       "      <th>0</th>\n",
       "      <td>by Aziz A.Verified Purchase</td>\n",
       "      <td>Genuine Product h But Defective Piece h 8gb Or...</td>\n",
       "    </tr>\n",
       "    <tr>\n",
       "      <th>1</th>\n",
       "      <td>by abdurrehman Q.Verified Purchase</td>\n",
       "      <td>i am using this memory card for 3days.everythi...</td>\n",
       "    </tr>\n",
       "    <tr>\n",
       "      <th>2</th>\n",
       "      <td>by M***.Verified Purchase</td>\n",
       "      <td>nice and good thing working good  recomended t...</td>\n",
       "    </tr>\n",
       "    <tr>\n",
       "      <th>3</th>\n",
       "      <td>by samiayasinVerified Purchase</td>\n",
       "      <td>Awesome product.I buy a 32 gb card and it's ve...</td>\n",
       "    </tr>\n",
       "    <tr>\n",
       "      <th>4</th>\n",
       "      <td>by Komal S.Verified Purchase</td>\n",
       "      <td>Meine 16 gb magwaya tha and trust me it's the ...</td>\n",
       "    </tr>\n",
       "    <tr>\n",
       "      <th>5</th>\n",
       "      <td>by J***.Verified Purchase</td>\n",
       "      <td>i don't like it it's slowing my phone very muc...</td>\n",
       "    </tr>\n",
       "    <tr>\n",
       "      <th>6</th>\n",
       "      <td>by Awais K.Verified Purchase</td>\n",
       "      <td>Delivery On time Packing was Very Good\\nI'll b...</td>\n",
       "    </tr>\n",
       "    <tr>\n",
       "      <th>7</th>\n",
       "      <td>by Awais K.Verified Purchase</td>\n",
       "      <td>Delivery On time Packing was Very very Good SD...</td>\n",
       "    </tr>\n",
       "    <tr>\n",
       "      <th>8</th>\n",
       "      <td>by Awais K.Verified Purchase</td>\n",
       "      <td>Delivery On time Packing was Very very Good SD...</td>\n",
       "    </tr>\n",
       "    <tr>\n",
       "      <th>9</th>\n",
       "      <td>by Shahzaib P.Verified Purchase</td>\n",
       "      <td>Overall product acha hai, jo order kiya tha wa...</td>\n",
       "    </tr>\n",
       "    <tr>\n",
       "      <th>10</th>\n",
       "      <td>by R***.Verified Purchase</td>\n",
       "      <td>nice product good performance is he doing work...</td>\n",
       "    </tr>\n",
       "    <tr>\n",
       "      <th>11</th>\n",
       "      <td>by Nadeem S.Verified Purchase</td>\n",
       "      <td>Zaberdast card receive howa ha speed b 12 se 1...</td>\n",
       "    </tr>\n",
       "    <tr>\n",
       "      <th>12</th>\n",
       "      <td>by ASIA B.Verified Purchase</td>\n",
       "      <td>Same as shown in picture. Thank you seller to ...</td>\n",
       "    </tr>\n",
       "    <tr>\n",
       "      <th>13</th>\n",
       "      <td>by Umair K.Verified Purchase</td>\n",
       "      <td>Good Product but isn't it 29.75 GB</td>\n",
       "    </tr>\n",
       "    <tr>\n",
       "      <th>14</th>\n",
       "      <td>by 0***5Verified Purchase</td>\n",
       "      <td>bhot acha product hai pehle to sd card mobile ...</td>\n",
       "    </tr>\n",
       "  </tbody>\n",
       "</table>\n",
       "</div>"
      ],
      "text/plain": [
       "                                  Name  \\\n",
       "0          by Aziz A.Verified Purchase   \n",
       "1   by abdurrehman Q.Verified Purchase   \n",
       "2            by M***.Verified Purchase   \n",
       "3       by samiayasinVerified Purchase   \n",
       "4         by Komal S.Verified Purchase   \n",
       "5            by J***.Verified Purchase   \n",
       "6         by Awais K.Verified Purchase   \n",
       "7         by Awais K.Verified Purchase   \n",
       "8         by Awais K.Verified Purchase   \n",
       "9      by Shahzaib P.Verified Purchase   \n",
       "10           by R***.Verified Purchase   \n",
       "11       by Nadeem S.Verified Purchase   \n",
       "12         by ASIA B.Verified Purchase   \n",
       "13        by Umair K.Verified Purchase   \n",
       "14           by 0***5Verified Purchase   \n",
       "\n",
       "                                               Review  \n",
       "0   Genuine Product h But Defective Piece h 8gb Or...  \n",
       "1   i am using this memory card for 3days.everythi...  \n",
       "2   nice and good thing working good  recomended t...  \n",
       "3   Awesome product.I buy a 32 gb card and it's ve...  \n",
       "4   Meine 16 gb magwaya tha and trust me it's the ...  \n",
       "5   i don't like it it's slowing my phone very muc...  \n",
       "6   Delivery On time Packing was Very Good\\nI'll b...  \n",
       "7   Delivery On time Packing was Very very Good SD...  \n",
       "8   Delivery On time Packing was Very very Good SD...  \n",
       "9   Overall product acha hai, jo order kiya tha wa...  \n",
       "10  nice product good performance is he doing work...  \n",
       "11  Zaberdast card receive howa ha speed b 12 se 1...  \n",
       "12  Same as shown in picture. Thank you seller to ...  \n",
       "13                 Good Product but isn't it 29.75 GB  \n",
       "14  bhot acha product hai pehle to sd card mobile ...  "
      ]
     },
     "execution_count": 8,
     "metadata": {},
     "output_type": "execute_result"
    }
   ],
   "source": [
    "df = pd.DataFrame({'Name':name,'Review':review})\n",
    "df\n"
   ]
  },
  {
   "cell_type": "markdown",
   "metadata": {},
   "source": [
    "Q1b"
   ]
  },
  {
   "cell_type": "code",
   "execution_count": 12,
   "metadata": {},
   "outputs": [
    {
     "data": {
      "text/html": [
       "<div>\n",
       "<style scoped>\n",
       "    .dataframe tbody tr th:only-of-type {\n",
       "        vertical-align: middle;\n",
       "    }\n",
       "\n",
       "    .dataframe tbody tr th {\n",
       "        vertical-align: top;\n",
       "    }\n",
       "\n",
       "    .dataframe thead th {\n",
       "        text-align: right;\n",
       "    }\n",
       "</style>\n",
       "<table border=\"1\" class=\"dataframe\">\n",
       "  <thead>\n",
       "    <tr style=\"text-align: right;\">\n",
       "      <th></th>\n",
       "      <th>Name</th>\n",
       "      <th>Review</th>\n",
       "      <th>Sentiment</th>\n",
       "    </tr>\n",
       "  </thead>\n",
       "  <tbody>\n",
       "    <tr>\n",
       "      <th>0</th>\n",
       "      <td>Aziz A</td>\n",
       "      <td>Genuine Product h But Defective Piece h 8gb Or...</td>\n",
       "      <td>pos</td>\n",
       "    </tr>\n",
       "    <tr>\n",
       "      <th>1</th>\n",
       "      <td>abdurrehman Q</td>\n",
       "      <td>i am using this memory card for 3dayseverythin...</td>\n",
       "      <td>pos</td>\n",
       "    </tr>\n",
       "    <tr>\n",
       "      <th>2</th>\n",
       "      <td>M***</td>\n",
       "      <td>nice and good thing working good  recomended t...</td>\n",
       "      <td>pos</td>\n",
       "    </tr>\n",
       "    <tr>\n",
       "      <th>3</th>\n",
       "      <td>samiayasi</td>\n",
       "      <td>Awesome productI buy a 32 gb card and its very...</td>\n",
       "      <td>pos</td>\n",
       "    </tr>\n",
       "    <tr>\n",
       "      <th>4</th>\n",
       "      <td>Komal S</td>\n",
       "      <td>Meine 16 gb magwaya tha and trust me its the b...</td>\n",
       "      <td>pos</td>\n",
       "    </tr>\n",
       "    <tr>\n",
       "      <th>5</th>\n",
       "      <td>J***</td>\n",
       "      <td>i dont like it its slowing my phone very much ...</td>\n",
       "      <td>neg</td>\n",
       "    </tr>\n",
       "    <tr>\n",
       "      <th>6</th>\n",
       "      <td>Awais K</td>\n",
       "      <td>Delivery On time Packing was Very Good\\nIll be...</td>\n",
       "      <td>pos</td>\n",
       "    </tr>\n",
       "    <tr>\n",
       "      <th>7</th>\n",
       "      <td>Awais K</td>\n",
       "      <td>Delivery On time Packing was Very very Good SD...</td>\n",
       "      <td>pos</td>\n",
       "    </tr>\n",
       "    <tr>\n",
       "      <th>8</th>\n",
       "      <td>Awais K</td>\n",
       "      <td>Delivery On time Packing was Very very Good SD...</td>\n",
       "      <td>pos</td>\n",
       "    </tr>\n",
       "    <tr>\n",
       "      <th>9</th>\n",
       "      <td>Shahzaib P</td>\n",
       "      <td>Overall product acha hai jo order kiya tha wah...</td>\n",
       "      <td>pos</td>\n",
       "    </tr>\n",
       "  </tbody>\n",
       "</table>\n",
       "</div>"
      ],
      "text/plain": [
       "            Name                                             Review Sentiment\n",
       "0         Aziz A  Genuine Product h But Defective Piece h 8gb Or...       pos\n",
       "1  abdurrehman Q  i am using this memory card for 3dayseverythin...       pos\n",
       "2           M***  nice and good thing working good  recomended t...       pos\n",
       "3      samiayasi  Awesome productI buy a 32 gb card and its very...       pos\n",
       "4        Komal S  Meine 16 gb magwaya tha and trust me its the b...       pos\n",
       "5           J***  i dont like it its slowing my phone very much ...       neg\n",
       "6        Awais K  Delivery On time Packing was Very Good\\nIll be...       pos\n",
       "7        Awais K  Delivery On time Packing was Very very Good SD...       pos\n",
       "8        Awais K  Delivery On time Packing was Very very Good SD...       pos\n",
       "9     Shahzaib P  Overall product acha hai jo order kiya tha wah...       pos"
      ]
     },
     "execution_count": 12,
     "metadata": {},
     "output_type": "execute_result"
    }
   ],
   "source": [
    "df = pd.DataFrame({'Name':name,'Review':review})\n",
    "#punctuations removed and emojis\n",
    "for i in df.index:\n",
    "    clean(df.iloc[i,1], no_emoji=True)\n",
    "    df.iloc[i,1]=re.sub(r'[^\\w\\s]', '', df.iloc[i,1])\n",
    "#calculating sentiment\n",
    "df['scores'] = df['Review'].apply(lambda review: sid.polarity_scores(review))\n",
    "df['compound']  = df['scores'].apply(lambda score_dict: score_dict['compound'])\n",
    "df['Sentiment'] = df['compound'].apply(lambda c: 'pos' if c >=0 else 'neg')\n",
    "df=df[[\"Name\",\"Review\",\"Sentiment\"]]\n",
    "df"
   ]
  },
  {
   "cell_type": "markdown",
   "metadata": {},
   "source": [
    "# Question 2"
   ]
  },
  {
   "cell_type": "code",
   "execution_count": 15,
   "metadata": {},
   "outputs": [],
   "source": [
    "query = \"mobile covers\""
   ]
  },
  {
   "cell_type": "code",
   "execution_count": 16,
   "metadata": {},
   "outputs": [
    {
     "name": "stderr",
     "output_type": "stream",
     "text": [
      "C:\\Users\\lenovo\\AppData\\Local\\Temp\\ipykernel_13108\\3451963910.py:4: DeprecationWarning: executable_path has been deprecated, please pass in a Service object\n",
      "  driver= webdriver.Chrome(r'C:\\Users\\lenovo\\Downloads\\webscraping\\webscraping\\chromedriver.exe')\n"
     ]
    }
   ],
   "source": [
    "query = query.replace(' ','%20')\n",
    "url = f'https://www.daraz.pk/catalog/?from=input&q={query}'\n",
    "\n",
    "driver= webdriver.Chrome(r'C:\\Users\\lenovo\\Downloads\\webscraping\\webscraping\\chromedriver.exe')\n",
    "driver.get(url)\n",
    "\n",
    "names = []\n",
    "reviews = []\n",
    "prices = []\n",
    "country = []\n",
    "shipping=[]\n",
    "counter=0\n",
    "while counter<80:\n",
    "    time.sleep(10)\n",
    "    for product in driver.find_elements(By.CLASS_NAME,'gridItem--Yd0sa'):\n",
    "        #name\n",
    "        counter+=1\n",
    "        try:\n",
    "            names.append(product.find_element(By.CLASS_NAME,'title--wFj93').text)\n",
    "        except:\n",
    "            names.append(\"Not Found\")\n",
    "        #prices\n",
    "        try:\n",
    "            prices.append(product.find_element(By.CLASS_NAME,'price--NVB62').text[4:])\n",
    "        except:\n",
    "            prices.append(\"Not Found\")\n",
    "        #reviews\n",
    "        try:\n",
    "            r=product.find_element(By.CLASS_NAME,'rating__review--ygkUy').text[1:]\n",
    "            r=r[:-1]\n",
    "            reviews.append(r)\n",
    "        except:\n",
    "            reviews.append(\"Not Found\")\n",
    "        #mall availblity\n",
    "        try:\n",
    "            temp=product.find_element(By.CLASS_NAME,'location--eh0Ro ').text\n",
    "            if(temp=='Free Shipping'):\n",
    "                shipping.append(temp)\n",
    "                country.append(\"Not Mention\")\n",
    "            else:\n",
    "                country.append(temp)\n",
    "                shipping.append(\"Not Mention\")\n",
    "        except:\n",
    "            country.append(\"Not Mention\")\n",
    "            shipping.append(\"Not Mention\")\n",
    "    driver.find_element(By.XPATH,'/html/body/div[3]/div/div[2]/div/div/div[1]/div[3]/div/ul/li[9]/a').click()    \n",
    "        \n",
    "    \n",
    "        \n",
    "    \n",
    "        \n",
    "        \n",
    "\n",
    "\n",
    "\n",
    "    "
   ]
  },
  {
   "cell_type": "code",
   "execution_count": 17,
   "metadata": {},
   "outputs": [
    {
     "data": {
      "text/html": [
       "<div>\n",
       "<style scoped>\n",
       "    .dataframe tbody tr th:only-of-type {\n",
       "        vertical-align: middle;\n",
       "    }\n",
       "\n",
       "    .dataframe tbody tr th {\n",
       "        vertical-align: top;\n",
       "    }\n",
       "\n",
       "    .dataframe thead th {\n",
       "        text-align: right;\n",
       "    }\n",
       "</style>\n",
       "<table border=\"1\" class=\"dataframe\">\n",
       "  <thead>\n",
       "    <tr style=\"text-align: right;\">\n",
       "      <th></th>\n",
       "      <th>Name</th>\n",
       "      <th>Price</th>\n",
       "      <th>Reviews</th>\n",
       "      <th>Country</th>\n",
       "      <th>Shipping</th>\n",
       "    </tr>\n",
       "  </thead>\n",
       "  <tbody>\n",
       "    <tr>\n",
       "      <th>0</th>\n",
       "      <td>Hontinga for Realme 5 5I 5S 6I Case Luxury 6D ...</td>\n",
       "      <td>442</td>\n",
       "      <td>235</td>\n",
       "      <td>Not Mention</td>\n",
       "      <td>Free Shipping</td>\n",
       "    </tr>\n",
       "    <tr>\n",
       "      <th>1</th>\n",
       "      <td>Hontinga for Vivo S1 Case Luxury 6D Plating So...</td>\n",
       "      <td>506</td>\n",
       "      <td>121</td>\n",
       "      <td>Not Mention</td>\n",
       "      <td>Free Shipping</td>\n",
       "    </tr>\n",
       "    <tr>\n",
       "      <th>2</th>\n",
       "      <td>Hontinga for Samsung A32 4G Case Luxury 6D Pla...</td>\n",
       "      <td>442</td>\n",
       "      <td>259</td>\n",
       "      <td>Not Mention</td>\n",
       "      <td>Free Shipping</td>\n",
       "    </tr>\n",
       "    <tr>\n",
       "      <th>3</th>\n",
       "      <td>Underwater Waterproof Rainproof Mobile Case PV...</td>\n",
       "      <td>109</td>\n",
       "      <td>328</td>\n",
       "      <td>Pakistan</td>\n",
       "      <td>Not Mention</td>\n",
       "    </tr>\n",
       "    <tr>\n",
       "      <th>4</th>\n",
       "      <td>Google Pixel 4 XL , Full Back Protection Sheet...</td>\n",
       "      <td>92</td>\n",
       "      <td>47</td>\n",
       "      <td>Pakistan</td>\n",
       "      <td>Not Mention</td>\n",
       "    </tr>\n",
       "    <tr>\n",
       "      <th>...</th>\n",
       "      <td>...</td>\n",
       "      <td>...</td>\n",
       "      <td>...</td>\n",
       "      <td>...</td>\n",
       "      <td>...</td>\n",
       "    </tr>\n",
       "    <tr>\n",
       "      <th>75</th>\n",
       "      <td>Lenuo Phone Case for Samsung Galaxy A7 2018 Si...</td>\n",
       "      <td>669</td>\n",
       "      <td>47</td>\n",
       "      <td>Not Mention</td>\n",
       "      <td>Free Shipping</td>\n",
       "    </tr>\n",
       "    <tr>\n",
       "      <th>76</th>\n",
       "      <td>Ask for Any Model, CyberPunk 2077 Design Full ...</td>\n",
       "      <td>145</td>\n",
       "      <td>78</td>\n",
       "      <td>Pakistan</td>\n",
       "      <td>Not Mention</td>\n",
       "    </tr>\n",
       "    <tr>\n",
       "      <th>77</th>\n",
       "      <td>itel Vision 1 Pro Camera Protection ShockProof...</td>\n",
       "      <td>121</td>\n",
       "      <td>42</td>\n",
       "      <td>Not Mention</td>\n",
       "      <td>Free Shipping</td>\n",
       "    </tr>\n",
       "    <tr>\n",
       "      <th>78</th>\n",
       "      <td>Oppo F21 Pro 4G / Reno 7 4G , Full Back Protec...</td>\n",
       "      <td>92</td>\n",
       "      <td>68</td>\n",
       "      <td>Pakistan</td>\n",
       "      <td>Not Mention</td>\n",
       "    </tr>\n",
       "    <tr>\n",
       "      <th>79</th>\n",
       "      <td>Hontinga for Redmi Note 11 / Note 11S Back Cov...</td>\n",
       "      <td>435</td>\n",
       "      <td>82</td>\n",
       "      <td>Not Mention</td>\n",
       "      <td>Free Shipping</td>\n",
       "    </tr>\n",
       "  </tbody>\n",
       "</table>\n",
       "<p>80 rows × 5 columns</p>\n",
       "</div>"
      ],
      "text/plain": [
       "                                                 Name Price Reviews  \\\n",
       "0   Hontinga for Realme 5 5I 5S 6I Case Luxury 6D ...   442     235   \n",
       "1   Hontinga for Vivo S1 Case Luxury 6D Plating So...   506     121   \n",
       "2   Hontinga for Samsung A32 4G Case Luxury 6D Pla...   442     259   \n",
       "3   Underwater Waterproof Rainproof Mobile Case PV...   109     328   \n",
       "4   Google Pixel 4 XL , Full Back Protection Sheet...    92      47   \n",
       "..                                                ...   ...     ...   \n",
       "75  Lenuo Phone Case for Samsung Galaxy A7 2018 Si...   669      47   \n",
       "76  Ask for Any Model, CyberPunk 2077 Design Full ...   145      78   \n",
       "77  itel Vision 1 Pro Camera Protection ShockProof...   121      42   \n",
       "78  Oppo F21 Pro 4G / Reno 7 4G , Full Back Protec...    92      68   \n",
       "79  Hontinga for Redmi Note 11 / Note 11S Back Cov...   435      82   \n",
       "\n",
       "        Country       Shipping  \n",
       "0   Not Mention  Free Shipping  \n",
       "1   Not Mention  Free Shipping  \n",
       "2   Not Mention  Free Shipping  \n",
       "3      Pakistan    Not Mention  \n",
       "4      Pakistan    Not Mention  \n",
       "..          ...            ...  \n",
       "75  Not Mention  Free Shipping  \n",
       "76     Pakistan    Not Mention  \n",
       "77  Not Mention  Free Shipping  \n",
       "78     Pakistan    Not Mention  \n",
       "79  Not Mention  Free Shipping  \n",
       "\n",
       "[80 rows x 5 columns]"
      ]
     },
     "execution_count": 17,
     "metadata": {},
     "output_type": "execute_result"
    }
   ],
   "source": [
    "df = pd.DataFrame({'Name':names,'Price':prices,'Reviews':reviews,'Country':country,'Shipping':shipping})\n",
    "df\n",
    "\n"
   ]
  },
  {
   "cell_type": "code",
   "execution_count": null,
   "metadata": {},
   "outputs": [],
   "source": []
  },
  {
   "cell_type": "markdown",
   "metadata": {},
   "source": [
    "# Question 3  (30 marks)"
   ]
  },
  {
   "cell_type": "markdown",
   "metadata": {},
   "source": [
    "<!-- Which Products are on Flash sale? Display Product name, Actual Price, Discounted Price, Discount Percentage, Rating, No. of Reviews, Top 3 reviews displayed.\n",
    "\n",
    "Display output must be like this. Products may vary. -->\n",
    "\n",
    "If a user wants to make a store to sell something, lets say \"Mobile Covers\". He/She wants to see folowing things:\n",
    "1. Top 10 Sellers store names\n",
    "2. Daraz Mall Store/ Private store\n",
    "3. Total \"Mobile Covers\" listings on his store\n",
    "4. Avg Prices\n",
    "5. Avg Units selling\n",
    "6. Positive Seller Ratings\n",
    "7. Seller Country"
   ]
  },
  {
   "cell_type": "code",
   "execution_count": 31,
   "metadata": {},
   "outputs": [],
   "source": [
    "#Run this cell to see the sample output\n",
    "query = \"mobile covers\""
   ]
  },
  {
   "cell_type": "code",
   "execution_count": 70,
   "metadata": {},
   "outputs": [
    {
     "name": "stderr",
     "output_type": "stream",
     "text": [
      "C:\\Users\\lenovo\\AppData\\Local\\Temp\\ipykernel_7884\\4046343307.py:4: DeprecationWarning: executable_path has been deprecated, please pass in a Service object\n",
      "  driver= webdriver.Chrome(r'C:\\Users\\lenovo\\Downloads\\webscraping\\webscraping\\chromedriver.exe')\n"
     ]
    }
   ],
   "source": [
    "query = query.replace(' ','%20')\n",
    "url = f'https://www.daraz.pk/catalog/?from=input&q={query}'\n",
    "\n",
    "driver= webdriver.Chrome(r'C:\\Users\\lenovo\\Downloads\\webscraping\\webscraping\\chromedriver.exe')\n",
    "driver.get(url)\n",
    "names=[]\n",
    "sellerRating=[]\n",
    "followers=[]\n",
    "avgPrice=[]\n",
    "listings=[]\n",
    "mall=[]\n",
    "for i in range(0,5):\n",
    "    stores=driver.find_elements(By.CLASS_NAME,'gridItem--Yd0sa')\n",
    "    stores[i].click()\n",
    "    time.sleep(5)\n",
    "    #in product item\n",
    "    #opening seller profile\n",
    "    try:\n",
    "        driver.find_element(By.XPATH,'/html/body/div[6]/div/div[2]/div/span/i').click()\n",
    "    except:\n",
    "        a=0\n",
    "    try:\n",
    "        driver.find_element(By.XPATH,'/html/body/div[4]/div/div[3]/div[2]/div/div[2]/div[5]/div/div[1]/div[1]/div[2]/a[1]').click()\n",
    "        names.append(driver.find_element(By.XPATH,'/html/body/div[3]/div/div/div[2]/div/div/div/div[2]/div[1]/div/div/div/div[2]/div[1]/h1').text)\n",
    "        sellerRating.append(driver.find_element(By.XPATH,'/html/body/div[3]/div/div/div[2]/div/div/div/div[2]/div[1]/div/div/div/div[2]/div[3]').text[:-25])\n",
    "        followers.append(driver.find_element(By.XPATH,'/html/body/div[3]/div/div/div[2]/div/div/div/div[2]/div[1]/div/div/div/div[2]/div[2]/div').text[:-10])\n",
    "        try:\n",
    "            driver.find_element(By.XPATH,'/html/body/div[4]/div/div[3]/div[2]/div/div[2]/div[5]/div/div[1]/div[1]/div[2]/a[2]/img')\n",
    "            mall.append('Daraz Mall Seller')\n",
    "        except:\n",
    "            mall.append('Private Seller')\n",
    "        #going back to profile\n",
    "        driver.back()\n",
    "        time.sleep(4)\n",
    "        try:\n",
    "            driver.find_element(By.XPATH,'/html/body/div[6]/div/div[2]/div/span/i').click()\n",
    "        except:\n",
    "            a=0\n",
    "        driver.find_element(By.XPATH,'/html/body/div[4]/div/div[3]/div[2]/div/div[1]/div[5]/div/a[2]').click()\n",
    "        listings.append(driver.find_element(By.XPATH,'/html/body/div[3]/div/div[2]/div/div/div[1]/div[1]/div/div[1]/div/div/span[1]').text[:-17])\n",
    "        counter = 0\n",
    "        avgSum = 0\n",
    "        #find average price \n",
    "        for i in range(0,2):\n",
    "            time.sleep(5)\n",
    "            for product in driver.find_elements(By.CLASS_NAME,'gridItem--Yd0sa'):\n",
    "                avgSum+=int(product.find_element(By.CLASS_NAME,'price--NVB62').text[4:])\n",
    "                counter+=1\n",
    "            driver.find_element(By.XPATH,'/html/body/div[3]/div/div[2]/div/div/div[1]/div[4]/div/ul/li[9]').click()\n",
    "        #calculating avg\n",
    "        avgPrice.append(int(avgSum/counter))\n",
    "        time.sleep(2)\n",
    "        driver.back()\n",
    "        driver.back()\n",
    "        driver.back()\n",
    "        driver.back()\n",
    "    except:\n",
    "        names.append(\"Private\")\n",
    "        sellerRating.append(\"Private\")\n",
    "        followers.append(\"Private\")\n",
    "        mall.append(\"Private\")\n",
    "        avgPrice.append(\"Private\")\n",
    "        driver.back()\n",
    "        driver.back()\n",
    "        #3 times back to search\n",
    "        \n",
    "    time.sleep(4)\n",
    "\n",
    "\n",
    "    \n",
    "        \n",
    "        \n",
    "    \n",
    "#     time.sleep(5)\n",
    "#     driver.back()\n",
    "#     time.sleep(5)\n",
    "    \n",
    "\n"
   ]
  },
  {
   "cell_type": "code",
   "execution_count": 42,
   "metadata": {},
   "outputs": [
    {
     "ename": "SyntaxError",
     "evalue": "invalid syntax (812794611.py, line 1)",
     "output_type": "error",
     "traceback": [
      "\u001b[1;36m  Input \u001b[1;32mIn [42]\u001b[1;36m\u001b[0m\n\u001b[1;33m    names avgPrice seller rating\u001b[0m\n\u001b[1;37m          ^\u001b[0m\n\u001b[1;31mSyntaxError\u001b[0m\u001b[1;31m:\u001b[0m invalid syntax\n"
     ]
    }
   ],
   "source": [
    "names avgPrice seller rating"
   ]
  },
  {
   "cell_type": "code",
   "execution_count": 77,
   "metadata": {},
   "outputs": [
    {
     "data": {
      "text/plain": [
       "['30710', '4298', '14179', 'Private', '12020', 'Private', '12020', 'Private']"
      ]
     },
     "execution_count": 77,
     "metadata": {},
     "output_type": "execute_result"
    }
   ],
   "source": [
    "# df = pd.DataFrame({'Store Name':names,'Avg Price':avgPrice,'Followers':followers,'Seller Rating':sellerRating,'Listings':listings,'Mall ':mall})\n",
    "# df\n",
    "names\n",
    "avgPrice\n",
    "followers"
   ]
  },
  {
   "cell_type": "code",
   "execution_count": 50,
   "metadata": {},
   "outputs": [
    {
     "data": {
      "text/plain": [
       "'93'"
      ]
     },
     "execution_count": 50,
     "metadata": {},
     "output_type": "execute_result"
    }
   ],
   "source": [
    "s='93% Positive Seller Ratings'\n",
    "s[:-25]"
   ]
  },
  {
   "cell_type": "code",
   "execution_count": 49,
   "metadata": {},
   "outputs": [
    {
     "data": {
      "text/plain": [
       "'30700a'"
      ]
     },
     "execution_count": 49,
     "metadata": {},
     "output_type": "execute_result"
    }
   ],
   "source": [
    "s='30700 Followers'\n",
    "s[:-10]"
   ]
  },
  {
   "cell_type": "code",
   "execution_count": 51,
   "metadata": {},
   "outputs": [
    {
     "data": {
      "text/plain": [
       "'95639 '"
      ]
     },
     "execution_count": 51,
     "metadata": {},
     "output_type": "execute_result"
    }
   ],
   "source": [
    "s='95639 items found for '\n",
    "s[:-16]"
   ]
  },
  {
   "cell_type": "code",
   "execution_count": 61,
   "metadata": {},
   "outputs": [
    {
     "data": {
      "text/plain": [
       "['3325 i']"
      ]
     },
     "execution_count": 61,
     "metadata": {},
     "output_type": "execute_result"
    }
   ],
   "source": [
    "listings"
   ]
  },
  {
   "cell_type": "code",
   "execution_count": null,
   "metadata": {},
   "outputs": [],
   "source": []
  }
 ],
 "metadata": {
  "kernelspec": {
   "display_name": "Python 3 (ipykernel)",
   "language": "python",
   "name": "python3"
  },
  "language_info": {
   "codemirror_mode": {
    "name": "ipython",
    "version": 3
   },
   "file_extension": ".py",
   "mimetype": "text/x-python",
   "name": "python",
   "nbconvert_exporter": "python",
   "pygments_lexer": "ipython3",
   "version": "3.9.12"
  }
 },
 "nbformat": 4,
 "nbformat_minor": 2
}
